{
  "nbformat": 4,
  "nbformat_minor": 0,
  "metadata": {
    "colab": {
      "name": "Covid_Stock.ipynb",
      "provenance": [],
      "collapsed_sections": [],
      "include_colab_link": true
    },
    "kernelspec": {
      "name": "python3",
      "display_name": "Python 3"
    }
  },
  "cells": [
    {
      "cell_type": "markdown",
      "metadata": {
        "id": "view-in-github",
        "colab_type": "text"
      },
      "source": [
        "<a href=\"https://colab.research.google.com/github/gandhimonil9823/Covid_Stock_Analysis/blob/main/Covid_Stock.ipynb\" target=\"_parent\"><img src=\"https://colab.research.google.com/assets/colab-badge.svg\" alt=\"Open In Colab\"/></a>"
      ]
    },
    {
      "cell_type": "code",
      "metadata": {
        "id": "z7cKyzk79VUp"
      },
      "source": [
        "import pandas as pd\n",
        "import matplotlib.pyplot as plt\n",
        "import os\n",
        "import statistics \n",
        "import numpy as np\n"
      ],
      "execution_count": null,
      "outputs": []
    },
    {
      "cell_type": "code",
      "metadata": {
        "id": "Sh9sKScyHKg5",
        "outputId": "6d8e6d75-90a8-4b39-84ba-4036475db4a1",
        "colab": {
          "base_uri": "https://localhost:8080/"
        }
      },
      "source": [
        "from google.colab import drive\n",
        "drive.mount('/content/drive')"
      ],
      "execution_count": null,
      "outputs": [
        {
          "output_type": "stream",
          "text": [
            "Mounted at /content/drive\n"
          ],
          "name": "stdout"
        }
      ]
    },
    {
      "cell_type": "code",
      "metadata": {
        "id": "847mykp8-TWX"
      },
      "source": [
        "# Merging the Stock Indexes and the currency data with rows as dates and columns as index values\n",
        "# Preprocessing the data sets with online steps for data processing \n",
        "# Figuring a way to convert the unemployment data into county wise data - probably using a probability distribution\n",
        "# Deal with missing stock data for weekends and holidays"
      ],
      "execution_count": null,
      "outputs": []
    },
    {
      "cell_type": "markdown",
      "metadata": {
        "id": "UbBSALPbnyz_"
      },
      "source": [
        "Stock Data: Pre-processing\n"
      ]
    },
    {
      "cell_type": "code",
      "metadata": {
        "id": "9WeEbAqBns3G"
      },
      "source": [
        "# Reading CSVs for three stock indices\n",
        "df = pd.read_csv(\"/content/drive/Shared drives/Stock_Covid_Data/stock_data/DJI.csv\")\n",
        "df_DJI = df[[\"Date\", \"Adj Close\", \"Volume\"]]\n",
        "\n",
        "df = pd.read_csv(\"/content/drive/Shared drives/Stock_Covid_Data/stock_data/NASDAQ.csv\")\n",
        "df_NASDAQ = df[[\"Date\", \"Adj Close\", \"Volume\"]]\n",
        "\n",
        "df = pd.read_csv(\"/content/drive/Shared drives/Stock_Covid_Data/stock_data/S&P500.csv\")\n",
        "df_SP500 = df[[\"Date\", \"Adj Close\", \"Volume\"]]\n",
        "\n",
        "df_covid_clean_complete = pd.read_csv(\"/content/drive/Shared drives/Stock_Covid_Data/COVID_19/covid_19_clean_complete.csv\")\n"
      ],
      "execution_count": null,
      "outputs": []
    },
    {
      "cell_type": "code",
      "metadata": {
        "id": "D3hbuwrkns59"
      },
      "source": [
        "# Rename columns in each index in order to merge the indices \n",
        "df_NASDAQ = df_NASDAQ.rename(columns={'Adj Close': 'Adj_Close_NASDAQ', 'Volume': 'Volume_NASDAQ'})\n",
        "df_SP500 = df_SP500.rename(columns={'Adj Close': 'Adj_Close_SP500', 'Volume': 'Volume_SP500'})\n",
        "df_DJI = df_DJI.rename(columns={'Adj Close': 'Adj_Close_DJI', 'Volume': 'Volume_DJI'})"
      ],
      "execution_count": null,
      "outputs": []
    },
    {
      "cell_type": "code",
      "metadata": {
        "id": "wHKeE7V6ns87"
      },
      "source": [
        "# Merging data of three stock indices based on column: 'Date' (merging two DFs at once)\n",
        "df_Merged = pd.merge(df_SP500, df_DJI, on=['Date'])\n",
        "df_stock_data = pd.merge(df_Merged, df_NASDAQ, on=['Date'])"
      ],
      "execution_count": null,
      "outputs": []
    },
    {
      "cell_type": "code",
      "metadata": {
        "id": "kThip465ns_2",
        "outputId": "5b322b84-6417-49a9-cadb-7fc3fc411fbd",
        "colab": {
          "base_uri": "https://localhost:8080/",
          "height": 204
        }
      },
      "source": [
        "df_stock_data.head()"
      ],
      "execution_count": null,
      "outputs": [
        {
          "output_type": "execute_result",
          "data": {
            "text/html": [
              "<div>\n",
              "<style scoped>\n",
              "    .dataframe tbody tr th:only-of-type {\n",
              "        vertical-align: middle;\n",
              "    }\n",
              "\n",
              "    .dataframe tbody tr th {\n",
              "        vertical-align: top;\n",
              "    }\n",
              "\n",
              "    .dataframe thead th {\n",
              "        text-align: right;\n",
              "    }\n",
              "</style>\n",
              "<table border=\"1\" class=\"dataframe\">\n",
              "  <thead>\n",
              "    <tr style=\"text-align: right;\">\n",
              "      <th></th>\n",
              "      <th>Date</th>\n",
              "      <th>Adj_Close_SP500</th>\n",
              "      <th>Volume_SP500</th>\n",
              "      <th>Adj_Close_DJI</th>\n",
              "      <th>Volume_DJI</th>\n",
              "      <th>Adj_Close_NASDAQ</th>\n",
              "      <th>Volume_NASDAQ</th>\n",
              "    </tr>\n",
              "  </thead>\n",
              "  <tbody>\n",
              "    <tr>\n",
              "      <th>0</th>\n",
              "      <td>2015-10-26</td>\n",
              "      <td>2071.179932</td>\n",
              "      <td>3385800000</td>\n",
              "      <td>17623.050781</td>\n",
              "      <td>116660000</td>\n",
              "      <td>5034.700195</td>\n",
              "      <td>1758690000</td>\n",
              "    </tr>\n",
              "    <tr>\n",
              "      <th>1</th>\n",
              "      <td>2015-10-27</td>\n",
              "      <td>2065.889893</td>\n",
              "      <td>4216880000</td>\n",
              "      <td>17581.429688</td>\n",
              "      <td>113960000</td>\n",
              "      <td>5030.149902</td>\n",
              "      <td>1986840000</td>\n",
              "    </tr>\n",
              "    <tr>\n",
              "      <th>2</th>\n",
              "      <td>2015-10-28</td>\n",
              "      <td>2090.350098</td>\n",
              "      <td>4698110000</td>\n",
              "      <td>17779.519531</td>\n",
              "      <td>115630000</td>\n",
              "      <td>5095.689941</td>\n",
              "      <td>2141130000</td>\n",
              "    </tr>\n",
              "    <tr>\n",
              "      <th>3</th>\n",
              "      <td>2015-10-29</td>\n",
              "      <td>2089.409912</td>\n",
              "      <td>4008940000</td>\n",
              "      <td>17755.800781</td>\n",
              "      <td>90300000</td>\n",
              "      <td>5074.270020</td>\n",
              "      <td>1928310000</td>\n",
              "    </tr>\n",
              "    <tr>\n",
              "      <th>4</th>\n",
              "      <td>2015-10-30</td>\n",
              "      <td>2079.360107</td>\n",
              "      <td>4256200000</td>\n",
              "      <td>17663.539063</td>\n",
              "      <td>149250000</td>\n",
              "      <td>5053.750000</td>\n",
              "      <td>2016390000</td>\n",
              "    </tr>\n",
              "  </tbody>\n",
              "</table>\n",
              "</div>"
            ],
            "text/plain": [
              "         Date  Adj_Close_SP500  ...  Adj_Close_NASDAQ  Volume_NASDAQ\n",
              "0  2015-10-26      2071.179932  ...       5034.700195     1758690000\n",
              "1  2015-10-27      2065.889893  ...       5030.149902     1986840000\n",
              "2  2015-10-28      2090.350098  ...       5095.689941     2141130000\n",
              "3  2015-10-29      2089.409912  ...       5074.270020     1928310000\n",
              "4  2015-10-30      2079.360107  ...       5053.750000     2016390000\n",
              "\n",
              "[5 rows x 7 columns]"
            ]
          },
          "metadata": {
            "tags": []
          },
          "execution_count": 9
        }
      ]
    },
    {
      "cell_type": "code",
      "metadata": {
        "id": "2A2pmmZZjlop",
        "outputId": "ec7a3c89-9002-486c-90cf-81562c222996",
        "colab": {
          "base_uri": "https://localhost:8080/"
        }
      },
      "source": [
        "df_stock_data.shape"
      ],
      "execution_count": null,
      "outputs": [
        {
          "output_type": "execute_result",
          "data": {
            "text/plain": [
              "(1259, 7)"
            ]
          },
          "metadata": {
            "tags": []
          },
          "execution_count": 9
        }
      ]
    },
    {
      "cell_type": "code",
      "metadata": {
        "id": "I8QcIj3uXxnS",
        "outputId": "87b55873-a3e7-499d-92c6-673aaf4abeb4",
        "colab": {
          "base_uri": "https://localhost:8080/",
          "height": 419
        }
      },
      "source": [
        "df_with_missing = pd.read_csv(\"/content/drive/Shared drives/Stock_Covid_Data/stock_data/stock_closing_prices_188.csv\")\n",
        "df_with_missing"
      ],
      "execution_count": null,
      "outputs": [
        {
          "output_type": "execute_result",
          "data": {
            "text/html": [
              "<div>\n",
              "<style scoped>\n",
              "    .dataframe tbody tr th:only-of-type {\n",
              "        vertical-align: middle;\n",
              "    }\n",
              "\n",
              "    .dataframe tbody tr th {\n",
              "        vertical-align: top;\n",
              "    }\n",
              "\n",
              "    .dataframe thead th {\n",
              "        text-align: right;\n",
              "    }\n",
              "</style>\n",
              "<table border=\"1\" class=\"dataframe\">\n",
              "  <thead>\n",
              "    <tr style=\"text-align: right;\">\n",
              "      <th></th>\n",
              "      <th>Date</th>\n",
              "      <th>Adj_Close_SP500</th>\n",
              "      <th>Adj_Close_DJI</th>\n",
              "      <th>Adj_Close_NASDAQ</th>\n",
              "    </tr>\n",
              "  </thead>\n",
              "  <tbody>\n",
              "    <tr>\n",
              "      <th>0</th>\n",
              "      <td>2020-01-22</td>\n",
              "      <td>3321.750000</td>\n",
              "      <td>29186.26953</td>\n",
              "      <td>9383.769531</td>\n",
              "    </tr>\n",
              "    <tr>\n",
              "      <th>1</th>\n",
              "      <td>2020-01-23</td>\n",
              "      <td>3325.540039</td>\n",
              "      <td>29160.08984</td>\n",
              "      <td>9402.480469</td>\n",
              "    </tr>\n",
              "    <tr>\n",
              "      <th>2</th>\n",
              "      <td>2020-01-24</td>\n",
              "      <td>3295.469971</td>\n",
              "      <td>28989.73047</td>\n",
              "      <td>9314.910156</td>\n",
              "    </tr>\n",
              "    <tr>\n",
              "      <th>3</th>\n",
              "      <td>2020-01-25</td>\n",
              "      <td>3278.098532</td>\n",
              "      <td>28837.62388</td>\n",
              "      <td>9256.004910</td>\n",
              "    </tr>\n",
              "    <tr>\n",
              "      <th>4</th>\n",
              "      <td>2020-01-26</td>\n",
              "      <td>3260.818664</td>\n",
              "      <td>28686.31538</td>\n",
              "      <td>9197.472167</td>\n",
              "    </tr>\n",
              "    <tr>\n",
              "      <th>...</th>\n",
              "      <td>...</td>\n",
              "      <td>...</td>\n",
              "      <td>...</td>\n",
              "      <td>...</td>\n",
              "    </tr>\n",
              "    <tr>\n",
              "      <th>183</th>\n",
              "      <td>2020-07-23</td>\n",
              "      <td>3235.659912</td>\n",
              "      <td>26652.33008</td>\n",
              "      <td>10461.419920</td>\n",
              "    </tr>\n",
              "    <tr>\n",
              "      <th>184</th>\n",
              "      <td>2020-07-24</td>\n",
              "      <td>3215.629883</td>\n",
              "      <td>26469.89063</td>\n",
              "      <td>10363.179690</td>\n",
              "    </tr>\n",
              "    <tr>\n",
              "      <th>185</th>\n",
              "      <td>2020-07-25</td>\n",
              "      <td>3223.537100</td>\n",
              "      <td>26508.12833</td>\n",
              "      <td>10420.558030</td>\n",
              "    </tr>\n",
              "    <tr>\n",
              "      <th>186</th>\n",
              "      <td>2020-07-26</td>\n",
              "      <td>3231.463760</td>\n",
              "      <td>26546.42127</td>\n",
              "      <td>10478.254050</td>\n",
              "    </tr>\n",
              "    <tr>\n",
              "      <th>187</th>\n",
              "      <td>2020-07-27</td>\n",
              "      <td>3239.409912</td>\n",
              "      <td>26584.76953</td>\n",
              "      <td>10536.269530</td>\n",
              "    </tr>\n",
              "  </tbody>\n",
              "</table>\n",
              "<p>188 rows × 4 columns</p>\n",
              "</div>"
            ],
            "text/plain": [
              "           Date  Adj_Close_SP500  Adj_Close_DJI  Adj_Close_NASDAQ\n",
              "0    2020-01-22      3321.750000    29186.26953       9383.769531\n",
              "1    2020-01-23      3325.540039    29160.08984       9402.480469\n",
              "2    2020-01-24      3295.469971    28989.73047       9314.910156\n",
              "3    2020-01-25      3278.098532    28837.62388       9256.004910\n",
              "4    2020-01-26      3260.818664    28686.31538       9197.472167\n",
              "..          ...              ...            ...               ...\n",
              "183  2020-07-23      3235.659912    26652.33008      10461.419920\n",
              "184  2020-07-24      3215.629883    26469.89063      10363.179690\n",
              "185  2020-07-25      3223.537100    26508.12833      10420.558030\n",
              "186  2020-07-26      3231.463760    26546.42127      10478.254050\n",
              "187  2020-07-27      3239.409912    26584.76953      10536.269530\n",
              "\n",
              "[188 rows x 4 columns]"
            ]
          },
          "metadata": {
            "tags": []
          },
          "execution_count": 71
        }
      ]
    },
    {
      "cell_type": "markdown",
      "metadata": {
        "id": "-whAELR8y9d_"
      },
      "source": [
        "# COVID-19 Data Loading and Preprocessing"
      ]
    },
    {
      "cell_type": "code",
      "metadata": {
        "id": "q8ilNwWHntC5"
      },
      "source": [
        "# Function to load the covid_clean_complete dataset from the drive\n",
        "def load_dataset_us_cases():  \n",
        "  df_covid_clean_complete = pd.read_csv(\"/content/drive/Shared drives/Stock_Covid_Data/COVID_19/covid_19_clean_complete.csv\")\n",
        "  return df_covid_clean_complete\n",
        "\n",
        "# Function to preprocess the clean_complete_dataset\n",
        "def preprocess_us_cases_df():\n",
        "  df_US_daily_cases = load_dataset_us_cases()\n",
        "\n",
        "  # get the daily data only for US\n",
        "  df_US_daily_cases = df_covid_clean_complete.loc[df_covid_clean_complete['Country/Region'] == \"US\"]\n",
        "  \n",
        "  df_US_daily_cases = df_US_daily_cases.reset_index(drop=True)\n",
        "\n",
        "  # Added a column for new_cases daily by getting the differerence of the confirmed cases\n",
        "  df_US_daily_cases[\"New_cases\"] = df_US_daily_cases[\"Confirmed\"].diff()\n",
        "  \n",
        "  df_US_daily_cases['New_cases'] = df_US_daily_cases['New_cases'].fillna(0)\n",
        "\n",
        "  df_US_daily_cases = df_US_daily_cases.rename(columns={\"Confirmed\": \"Total_Confirmed\", \"Deaths\" : \"Total_Deaths\"})\n",
        "\n",
        "  return df_US_daily_cases\n"
      ],
      "execution_count": null,
      "outputs": []
    },
    {
      "cell_type": "markdown",
      "metadata": {
        "id": "3COXSluaHjZs"
      },
      "source": [
        "# Standardize the COVID variables like New_cases, Total_cases, Total_deaths"
      ]
    },
    {
      "cell_type": "code",
      "metadata": {
        "id": "1c1unfm214_r"
      },
      "source": [
        "# Function to standardize the covid_variables like New_cases, Total_cases, Total_deaths\n",
        "# Adds new columns to the df with the standarized values\n",
        "# params - the dataframe, and the column name (COVID Variable) which has to be standarized\n",
        "def covid_variable_impact_cal(dataframe_to_standardize, column_name):\n",
        "  # col_mean = dataframe_to_standardize[column_name].mean()\n",
        "  # col_std  = dataframe_to_standardize[column_name].std()\n",
        "\n",
        "  col_name = \"Standardized_Value_\" + column_name\n",
        "  dataframe_to_standardize[col_name] = dataframe_to_standardize[column_name]\n",
        "\n",
        "  i = 0\n",
        "  j = 0\n",
        "  while i < len(dataframe_to_standardize):\n",
        "    j = i\n",
        "    if i > 7:\n",
        "      col_mean = dataframe_to_standardize[column_name][j - 8: j - 1].mean()\n",
        "      col_std  = statistics.stdev(dataframe_to_standardize[column_name][j - 8: j - 1])\n",
        "\n",
        "      curr_daily_value = dataframe_to_standardize[column_name][i]\n",
        "\n",
        "      formula_cal_value = (curr_daily_value - col_mean) / col_std\n",
        "\n",
        "      dataframe_to_standardize.loc[i, col_name] = formula_cal_value\n",
        "\n",
        "    i += 1\n",
        "  dataframe_to_standardize[col_name].replace(np.inf, 0, inplace=True)\n",
        "  return dataframe_to_standardize"
      ],
      "execution_count": null,
      "outputs": []
    },
    {
      "cell_type": "code",
      "metadata": {
        "id": "rWYBLN-20_S1",
        "outputId": "c907d342-dfd3-4d87-a8c0-089113b6bf00",
        "colab": {
          "base_uri": "https://localhost:8080/",
          "height": 204
        }
      },
      "source": [
        "df_US_daily_cases = preprocess_us_cases_df()\n",
        "df_US_daily_cases.head()\n",
        "\n"
      ],
      "execution_count": null,
      "outputs": [
        {
          "output_type": "execute_result",
          "data": {
            "text/html": [
              "<div>\n",
              "<style scoped>\n",
              "    .dataframe tbody tr th:only-of-type {\n",
              "        vertical-align: middle;\n",
              "    }\n",
              "\n",
              "    .dataframe tbody tr th {\n",
              "        vertical-align: top;\n",
              "    }\n",
              "\n",
              "    .dataframe thead th {\n",
              "        text-align: right;\n",
              "    }\n",
              "</style>\n",
              "<table border=\"1\" class=\"dataframe\">\n",
              "  <thead>\n",
              "    <tr style=\"text-align: right;\">\n",
              "      <th></th>\n",
              "      <th>Province/State</th>\n",
              "      <th>Country/Region</th>\n",
              "      <th>Lat</th>\n",
              "      <th>Long</th>\n",
              "      <th>Date</th>\n",
              "      <th>Total_Confirmed</th>\n",
              "      <th>Total_Deaths</th>\n",
              "      <th>Recovered</th>\n",
              "      <th>Active</th>\n",
              "      <th>WHO Region</th>\n",
              "      <th>New_cases</th>\n",
              "    </tr>\n",
              "  </thead>\n",
              "  <tbody>\n",
              "    <tr>\n",
              "      <th>0</th>\n",
              "      <td>NaN</td>\n",
              "      <td>US</td>\n",
              "      <td>40.0</td>\n",
              "      <td>-100.0</td>\n",
              "      <td>2020-01-22</td>\n",
              "      <td>1</td>\n",
              "      <td>0</td>\n",
              "      <td>0</td>\n",
              "      <td>1</td>\n",
              "      <td>Americas</td>\n",
              "      <td>0.0</td>\n",
              "    </tr>\n",
              "    <tr>\n",
              "      <th>1</th>\n",
              "      <td>NaN</td>\n",
              "      <td>US</td>\n",
              "      <td>40.0</td>\n",
              "      <td>-100.0</td>\n",
              "      <td>2020-01-23</td>\n",
              "      <td>1</td>\n",
              "      <td>0</td>\n",
              "      <td>0</td>\n",
              "      <td>1</td>\n",
              "      <td>Americas</td>\n",
              "      <td>0.0</td>\n",
              "    </tr>\n",
              "    <tr>\n",
              "      <th>2</th>\n",
              "      <td>NaN</td>\n",
              "      <td>US</td>\n",
              "      <td>40.0</td>\n",
              "      <td>-100.0</td>\n",
              "      <td>2020-01-24</td>\n",
              "      <td>2</td>\n",
              "      <td>0</td>\n",
              "      <td>0</td>\n",
              "      <td>2</td>\n",
              "      <td>Americas</td>\n",
              "      <td>1.0</td>\n",
              "    </tr>\n",
              "    <tr>\n",
              "      <th>3</th>\n",
              "      <td>NaN</td>\n",
              "      <td>US</td>\n",
              "      <td>40.0</td>\n",
              "      <td>-100.0</td>\n",
              "      <td>2020-01-25</td>\n",
              "      <td>2</td>\n",
              "      <td>0</td>\n",
              "      <td>0</td>\n",
              "      <td>2</td>\n",
              "      <td>Americas</td>\n",
              "      <td>0.0</td>\n",
              "    </tr>\n",
              "    <tr>\n",
              "      <th>4</th>\n",
              "      <td>NaN</td>\n",
              "      <td>US</td>\n",
              "      <td>40.0</td>\n",
              "      <td>-100.0</td>\n",
              "      <td>2020-01-26</td>\n",
              "      <td>5</td>\n",
              "      <td>0</td>\n",
              "      <td>0</td>\n",
              "      <td>5</td>\n",
              "      <td>Americas</td>\n",
              "      <td>3.0</td>\n",
              "    </tr>\n",
              "  </tbody>\n",
              "</table>\n",
              "</div>"
            ],
            "text/plain": [
              "  Province/State Country/Region   Lat  ...  Active WHO Region  New_cases\n",
              "0            NaN             US  40.0  ...       1   Americas        0.0\n",
              "1            NaN             US  40.0  ...       1   Americas        0.0\n",
              "2            NaN             US  40.0  ...       2   Americas        1.0\n",
              "3            NaN             US  40.0  ...       2   Americas        0.0\n",
              "4            NaN             US  40.0  ...       5   Americas        3.0\n",
              "\n",
              "[5 rows x 11 columns]"
            ]
          },
          "metadata": {
            "tags": []
          },
          "execution_count": 16
        }
      ]
    },
    {
      "cell_type": "code",
      "metadata": {
        "id": "QnMre8cu-iQ1",
        "outputId": "402c20d4-f6b3-4f86-ae31-535c790833f2",
        "colab": {
          "base_uri": "https://localhost:8080/",
          "height": 889
        }
      },
      "source": [
        "df_standarized_total_confirmed = covid_variable_impact_cal(df_US_daily_cases, \"Total_Confirmed\")\n",
        "\n",
        "df_standarized_total_confirmed.reset_index().plot(x='index', y='Standardized_Value_Total_Confirmed')    \n",
        "\n",
        "df_standarized_Total_Deaths = covid_variable_impact_cal(df_US_daily_cases, \"Total_Deaths\")\n",
        "\n",
        "df_standarized_Total_Deaths.reset_index().plot(x='index', y='Standardized_Value_Total_Deaths')\n",
        "\n",
        "df_standarized_New_cases = covid_variable_impact_cal(df_US_daily_cases, \"New_cases\")\n",
        "\n",
        "df_standarized_New_cases.reset_index().plot(x='index', y='Standardized_Value_New_cases')"
      ],
      "execution_count": null,
      "outputs": [
        {
          "output_type": "stream",
          "text": [
            "/usr/local/lib/python3.6/dist-packages/ipykernel_launcher.py:21: RuntimeWarning: divide by zero encountered in double_scalars\n",
            "/usr/local/lib/python3.6/dist-packages/ipykernel_launcher.py:21: RuntimeWarning: invalid value encountered in double_scalars\n",
            "/usr/local/lib/python3.6/dist-packages/ipykernel_launcher.py:21: RuntimeWarning: divide by zero encountered in double_scalars\n",
            "/usr/local/lib/python3.6/dist-packages/ipykernel_launcher.py:21: RuntimeWarning: invalid value encountered in double_scalars\n"
          ],
          "name": "stderr"
        },
        {
          "output_type": "execute_result",
          "data": {
            "text/plain": [
              "<matplotlib.axes._subplots.AxesSubplot at 0x7f3fa9c20668>"
            ]
          },
          "metadata": {
            "tags": []
          },
          "execution_count": 17
        },
        {
          "output_type": "display_data",
          "data": {
            "image/png": "[encoded data removed]",
            "text/plain": [
              "<Figure size 432x288 with 1 Axes>"
            ]
          },
          "metadata": {
            "tags": [],
            "needs_background": "light"
          }
        },
        {
          "output_type": "display_data",
          "data": {
            "image/png": "[encoded data removed]",
            "text/plain": [
              "<Figure size 432x288 with 1 Axes>"
            ]
          },
          "metadata": {
            "tags": [],
            "needs_background": "light"
          }
        },
        {
          "output_type": "display_data",
          "data": {
            "image/png": "[encoded data removed]",
            "text/plain": [
              "<Figure size 432x288 with 1 Axes>"
            ]
          },
          "metadata": {
            "tags": [],
            "needs_background": "light"
          }
        }
      ]
    },
    {
      "cell_type": "markdown",
      "metadata": {
        "id": "Ebk_gH8kX8vo"
      },
      "source": [
        "## Computing Stock paramaters - Abnormal price and Volatality:"
      ]
    },
    {
      "cell_type": "code",
      "metadata": {
        "id": "qSuYAyoOYY9n"
      },
      "source": [
        "def stock_params(df_stock_data):\n",
        "  # splitting stock data as pre-covid and covid\n",
        "  mask = (df_stock_data['Date'] >= '2015-10-26') & (df_stock_data['Date'] <= '2020-01-21')\n",
        "  historical_stock_data = df_stock_data.loc[mask]\n",
        "\n",
        "  mask = (df_stock_data['Date'] > '2020-01-21') & (df_stock_data['Date'] <= '2020-07-27') #135 days excluding weekends - 188 days including\n",
        "  covid_stock_data =  df_stock_data.loc[mask]\n",
        "  covid_closing_prices = covid_stock_data.iloc[:, lambda df: [1,3,5]]\n",
        "  \n",
        "  print(\"P_t\")\n",
        "  print(covid_closing_prices)\n",
        "\n",
        "  # compute the average price between 2015-10-26 and 2020-01-21\n",
        "  history_closing_prices = historical_stock_data.iloc[:, lambda df: [1,3,5]]\n",
        "  history_total = history_closing_prices.sum()\n",
        "  avg_history_total = history_total.div(1066)\n",
        "\n",
        "  print(\"P_t-i\")\n",
        "  print(avg_history_total)\n",
        "\n",
        "  # compute standard deviation\n",
        "  diff = history_closing_prices - [avg_history_total[0], avg_history_total[1], avg_history_total[2]]\n",
        "  sd_stock_indices = (diff**2 / 1066)**0.5\n",
        "\n",
        "  print(\"sigma_P\")\n",
        "  print(sd_stock_indices)\n",
        "\n",
        "\n",
        "  return historical_stock_data,covid_stock_data\n"
      ],
      "execution_count": null,
      "outputs": []
    },
    {
      "cell_type": "code",
      "metadata": {
        "id": "5asmSbMaZ_x2",
        "outputId": "f4236179-d7d7-462e-e7c3-3bffff0d5f0e",
        "colab": {
          "base_uri": "https://localhost:8080/"
        }
      },
      "source": [
        "historical_stock_data,covid_stock_data = stock_params(df_stock_data)\n",
        "# print(historical_stock_data)\n",
        "# print(covid_stock_data)"
      ],
      "execution_count": null,
      "outputs": [
        {
          "output_type": "stream",
          "text": [
            "P_t\n",
            "      Adj_Close_SP500  Adj_Close_DJI  Adj_Close_NASDAQ\n",
            "1066      3321.750000   29186.269531       9383.769531\n",
            "1067      3325.540039   29160.089844       9402.480469\n",
            "1068      3295.469971   28989.730469       9314.910156\n",
            "1069      3243.629883   28535.800781       9139.309570\n",
            "1070      3276.239990   28722.849609       9269.679688\n",
            "...               ...            ...               ...\n",
            "1191      3257.300049   26840.400391      10680.360352\n",
            "1192      3276.020020   27005.839844      10706.129883\n",
            "1193      3235.659912   26652.330078      10461.419922\n",
            "1194      3215.629883   26469.890625      10363.179688\n",
            "1195      3239.409912   26584.769531      10536.269531\n",
            "\n",
            "[130 rows x 3 columns]\n",
            "P_t-i\n",
            "Adj_Close_SP500      2538.303169\n",
            "Adj_Close_DJI       22624.756401\n",
            "Adj_Close_NASDAQ     6608.168708\n",
            "dtype: float64\n",
            "sigma_P\n",
            "      Adj_Close_SP500  Adj_Close_DJI  Adj_Close_NASDAQ\n",
            "0           14.307141     153.193213         48.192500\n",
            "1           14.469166     154.467992         48.331867\n",
            "2           13.719994     148.400858         46.324494\n",
            "3           13.748790     149.127320         46.980547\n",
            "4           14.056597     151.953130         47.609039\n",
            "...               ...            ...               ...\n",
            "1061        22.813311     193.414400         80.955261\n",
            "1062        23.001372     196.187807         81.180994\n",
            "1063        23.844261     204.378397         84.195718\n",
            "1064        24.236609     205.923864         85.170017\n",
            "1065        23.966160     201.266524         84.614702\n",
            "\n",
            "[1066 rows x 3 columns]\n"
          ],
          "name": "stdout"
        }
      ]
    },
    {
      "cell_type": "code",
      "metadata": {
        "id": "asGQQ9UeaBiG",
        "outputId": "ee8fbc9b-a36f-4a58-d08b-ac514a61d77a",
        "colab": {
          "base_uri": "https://localhost:8080/",
          "height": 419
        }
      },
      "source": [
        "covid_stock_data"
      ],
      "execution_count": null,
      "outputs": [
        {
          "output_type": "execute_result",
          "data": {
            "text/html": [
              "<div>\n",
              "<style scoped>\n",
              "    .dataframe tbody tr th:only-of-type {\n",
              "        vertical-align: middle;\n",
              "    }\n",
              "\n",
              "    .dataframe tbody tr th {\n",
              "        vertical-align: top;\n",
              "    }\n",
              "\n",
              "    .dataframe thead th {\n",
              "        text-align: right;\n",
              "    }\n",
              "</style>\n",
              "<table border=\"1\" class=\"dataframe\">\n",
              "  <thead>\n",
              "    <tr style=\"text-align: right;\">\n",
              "      <th></th>\n",
              "      <th>Date</th>\n",
              "      <th>Adj_Close_SP500</th>\n",
              "      <th>Volume_SP500</th>\n",
              "      <th>Adj_Close_DJI</th>\n",
              "      <th>Volume_DJI</th>\n",
              "      <th>Adj_Close_NASDAQ</th>\n",
              "      <th>Volume_NASDAQ</th>\n",
              "    </tr>\n",
              "  </thead>\n",
              "  <tbody>\n",
              "    <tr>\n",
              "      <th>1066</th>\n",
              "      <td>2020-01-22</td>\n",
              "      <td>3321.750000</td>\n",
              "      <td>3619850000</td>\n",
              "      <td>29186.269531</td>\n",
              "      <td>283440000</td>\n",
              "      <td>9383.769531</td>\n",
              "      <td>2449390000</td>\n",
              "    </tr>\n",
              "    <tr>\n",
              "      <th>1067</th>\n",
              "      <td>2020-01-23</td>\n",
              "      <td>3325.540039</td>\n",
              "      <td>3764860000</td>\n",
              "      <td>29160.089844</td>\n",
              "      <td>307060000</td>\n",
              "      <td>9402.480469</td>\n",
              "      <td>2460050000</td>\n",
              "    </tr>\n",
              "    <tr>\n",
              "      <th>1068</th>\n",
              "      <td>2020-01-24</td>\n",
              "      <td>3295.469971</td>\n",
              "      <td>3707130000</td>\n",
              "      <td>28989.730469</td>\n",
              "      <td>380010000</td>\n",
              "      <td>9314.910156</td>\n",
              "      <td>2611710000</td>\n",
              "    </tr>\n",
              "    <tr>\n",
              "      <th>1069</th>\n",
              "      <td>2020-01-27</td>\n",
              "      <td>3243.629883</td>\n",
              "      <td>3823100000</td>\n",
              "      <td>28535.800781</td>\n",
              "      <td>337270000</td>\n",
              "      <td>9139.309570</td>\n",
              "      <td>2583330000</td>\n",
              "    </tr>\n",
              "    <tr>\n",
              "      <th>1070</th>\n",
              "      <td>2020-01-28</td>\n",
              "      <td>3276.239990</td>\n",
              "      <td>3526720000</td>\n",
              "      <td>28722.849609</td>\n",
              "      <td>330140000</td>\n",
              "      <td>9269.679688</td>\n",
              "      <td>2157830000</td>\n",
              "    </tr>\n",
              "    <tr>\n",
              "      <th>...</th>\n",
              "      <td>...</td>\n",
              "      <td>...</td>\n",
              "      <td>...</td>\n",
              "      <td>...</td>\n",
              "      <td>...</td>\n",
              "      <td>...</td>\n",
              "      <td>...</td>\n",
              "    </tr>\n",
              "    <tr>\n",
              "      <th>1191</th>\n",
              "      <td>2020-07-21</td>\n",
              "      <td>3257.300049</td>\n",
              "      <td>4547960000</td>\n",
              "      <td>26840.400391</td>\n",
              "      <td>364930000</td>\n",
              "      <td>10680.360352</td>\n",
              "      <td>5311750000</td>\n",
              "    </tr>\n",
              "    <tr>\n",
              "      <th>1192</th>\n",
              "      <td>2020-07-22</td>\n",
              "      <td>3276.020020</td>\n",
              "      <td>4255190000</td>\n",
              "      <td>27005.839844</td>\n",
              "      <td>404340000</td>\n",
              "      <td>10706.129883</td>\n",
              "      <td>4074020000</td>\n",
              "    </tr>\n",
              "    <tr>\n",
              "      <th>1193</th>\n",
              "      <td>2020-07-23</td>\n",
              "      <td>3235.659912</td>\n",
              "      <td>4290460000</td>\n",
              "      <td>26652.330078</td>\n",
              "      <td>419800000</td>\n",
              "      <td>10461.419922</td>\n",
              "      <td>4469470000</td>\n",
              "    </tr>\n",
              "    <tr>\n",
              "      <th>1194</th>\n",
              "      <td>2020-07-24</td>\n",
              "      <td>3215.629883</td>\n",
              "      <td>3894900000</td>\n",
              "      <td>26469.890625</td>\n",
              "      <td>494170000</td>\n",
              "      <td>10363.179688</td>\n",
              "      <td>4205330000</td>\n",
              "    </tr>\n",
              "    <tr>\n",
              "      <th>1195</th>\n",
              "      <td>2020-07-27</td>\n",
              "      <td>3239.409912</td>\n",
              "      <td>3963910000</td>\n",
              "      <td>26584.769531</td>\n",
              "      <td>400930000</td>\n",
              "      <td>10536.269531</td>\n",
              "      <td>4209900000</td>\n",
              "    </tr>\n",
              "  </tbody>\n",
              "</table>\n",
              "<p>130 rows × 7 columns</p>\n",
              "</div>"
            ],
            "text/plain": [
              "            Date  Adj_Close_SP500  ...  Adj_Close_NASDAQ  Volume_NASDAQ\n",
              "1066  2020-01-22      3321.750000  ...       9383.769531     2449390000\n",
              "1067  2020-01-23      3325.540039  ...       9402.480469     2460050000\n",
              "1068  2020-01-24      3295.469971  ...       9314.910156     2611710000\n",
              "1069  2020-01-27      3243.629883  ...       9139.309570     2583330000\n",
              "1070  2020-01-28      3276.239990  ...       9269.679688     2157830000\n",
              "...          ...              ...  ...               ...            ...\n",
              "1191  2020-07-21      3257.300049  ...      10680.360352     5311750000\n",
              "1192  2020-07-22      3276.020020  ...      10706.129883     4074020000\n",
              "1193  2020-07-23      3235.659912  ...      10461.419922     4469470000\n",
              "1194  2020-07-24      3215.629883  ...      10363.179688     4205330000\n",
              "1195  2020-07-27      3239.409912  ...      10536.269531     4209900000\n",
              "\n",
              "[130 rows x 7 columns]"
            ]
          },
          "metadata": {
            "tags": []
          },
          "execution_count": 41
        }
      ]
    },
    {
      "cell_type": "code",
      "metadata": {
        "id": "2kbBgpmsDLjI",
        "outputId": "18c4058e-bc5a-4b4f-b760-ee1db9660b30",
        "colab": {
          "base_uri": "https://localhost:8080/",
          "height": 419
        }
      },
      "source": [
        "historical_stock_data"
      ],
      "execution_count": null,
      "outputs": [
        {
          "output_type": "execute_result",
          "data": {
            "text/html": [
              "<div>\n",
              "<style scoped>\n",
              "    .dataframe tbody tr th:only-of-type {\n",
              "        vertical-align: middle;\n",
              "    }\n",
              "\n",
              "    .dataframe tbody tr th {\n",
              "        vertical-align: top;\n",
              "    }\n",
              "\n",
              "    .dataframe thead th {\n",
              "        text-align: right;\n",
              "    }\n",
              "</style>\n",
              "<table border=\"1\" class=\"dataframe\">\n",
              "  <thead>\n",
              "    <tr style=\"text-align: right;\">\n",
              "      <th></th>\n",
              "      <th>Date</th>\n",
              "      <th>Adj_Close_SP500</th>\n",
              "      <th>Volume_SP500</th>\n",
              "      <th>Adj_Close_DJI</th>\n",
              "      <th>Volume_DJI</th>\n",
              "      <th>Adj_Close_NASDAQ</th>\n",
              "      <th>Volume_NASDAQ</th>\n",
              "    </tr>\n",
              "  </thead>\n",
              "  <tbody>\n",
              "    <tr>\n",
              "      <th>0</th>\n",
              "      <td>2015-10-26</td>\n",
              "      <td>2071.179932</td>\n",
              "      <td>3385800000</td>\n",
              "      <td>17623.050781</td>\n",
              "      <td>116660000</td>\n",
              "      <td>5034.700195</td>\n",
              "      <td>1758690000</td>\n",
              "    </tr>\n",
              "    <tr>\n",
              "      <th>1</th>\n",
              "      <td>2015-10-27</td>\n",
              "      <td>2065.889893</td>\n",
              "      <td>4216880000</td>\n",
              "      <td>17581.429688</td>\n",
              "      <td>113960000</td>\n",
              "      <td>5030.149902</td>\n",
              "      <td>1986840000</td>\n",
              "    </tr>\n",
              "    <tr>\n",
              "      <th>2</th>\n",
              "      <td>2015-10-28</td>\n",
              "      <td>2090.350098</td>\n",
              "      <td>4698110000</td>\n",
              "      <td>17779.519531</td>\n",
              "      <td>115630000</td>\n",
              "      <td>5095.689941</td>\n",
              "      <td>2141130000</td>\n",
              "    </tr>\n",
              "    <tr>\n",
              "      <th>3</th>\n",
              "      <td>2015-10-29</td>\n",
              "      <td>2089.409912</td>\n",
              "      <td>4008940000</td>\n",
              "      <td>17755.800781</td>\n",
              "      <td>90300000</td>\n",
              "      <td>5074.270020</td>\n",
              "      <td>1928310000</td>\n",
              "    </tr>\n",
              "    <tr>\n",
              "      <th>4</th>\n",
              "      <td>2015-10-30</td>\n",
              "      <td>2079.360107</td>\n",
              "      <td>4256200000</td>\n",
              "      <td>17663.539063</td>\n",
              "      <td>149250000</td>\n",
              "      <td>5053.750000</td>\n",
              "      <td>2016390000</td>\n",
              "    </tr>\n",
              "    <tr>\n",
              "      <th>...</th>\n",
              "      <td>...</td>\n",
              "      <td>...</td>\n",
              "      <td>...</td>\n",
              "      <td>...</td>\n",
              "      <td>...</td>\n",
              "      <td>...</td>\n",
              "      <td>...</td>\n",
              "    </tr>\n",
              "    <tr>\n",
              "      <th>1061</th>\n",
              "      <td>2020-01-14</td>\n",
              "      <td>3283.149902</td>\n",
              "      <td>3665130000</td>\n",
              "      <td>28939.669922</td>\n",
              "      <td>287440000</td>\n",
              "      <td>9251.330078</td>\n",
              "      <td>2542170000</td>\n",
              "    </tr>\n",
              "    <tr>\n",
              "      <th>1062</th>\n",
              "      <td>2020-01-15</td>\n",
              "      <td>3289.290039</td>\n",
              "      <td>3716840000</td>\n",
              "      <td>29030.220703</td>\n",
              "      <td>260270000</td>\n",
              "      <td>9258.700195</td>\n",
              "      <td>2435650000</td>\n",
              "    </tr>\n",
              "    <tr>\n",
              "      <th>1063</th>\n",
              "      <td>2020-01-16</td>\n",
              "      <td>3316.810059</td>\n",
              "      <td>3535080000</td>\n",
              "      <td>29297.640625</td>\n",
              "      <td>252110000</td>\n",
              "      <td>9357.129883</td>\n",
              "      <td>2301400000</td>\n",
              "    </tr>\n",
              "    <tr>\n",
              "      <th>1064</th>\n",
              "      <td>2020-01-17</td>\n",
              "      <td>3329.620117</td>\n",
              "      <td>3698170000</td>\n",
              "      <td>29348.099609</td>\n",
              "      <td>321820000</td>\n",
              "      <td>9388.940430</td>\n",
              "      <td>2522670000</td>\n",
              "    </tr>\n",
              "    <tr>\n",
              "      <th>1065</th>\n",
              "      <td>2020-01-21</td>\n",
              "      <td>3320.790039</td>\n",
              "      <td>4105340000</td>\n",
              "      <td>29196.039063</td>\n",
              "      <td>320640000</td>\n",
              "      <td>9370.809570</td>\n",
              "      <td>2684540000</td>\n",
              "    </tr>\n",
              "  </tbody>\n",
              "</table>\n",
              "<p>1066 rows × 7 columns</p>\n",
              "</div>"
            ],
            "text/plain": [
              "            Date  Adj_Close_SP500  ...  Adj_Close_NASDAQ  Volume_NASDAQ\n",
              "0     2015-10-26      2071.179932  ...       5034.700195     1758690000\n",
              "1     2015-10-27      2065.889893  ...       5030.149902     1986840000\n",
              "2     2015-10-28      2090.350098  ...       5095.689941     2141130000\n",
              "3     2015-10-29      2089.409912  ...       5074.270020     1928310000\n",
              "4     2015-10-30      2079.360107  ...       5053.750000     2016390000\n",
              "...          ...              ...  ...               ...            ...\n",
              "1061  2020-01-14      3283.149902  ...       9251.330078     2542170000\n",
              "1062  2020-01-15      3289.290039  ...       9258.700195     2435650000\n",
              "1063  2020-01-16      3316.810059  ...       9357.129883     2301400000\n",
              "1064  2020-01-17      3329.620117  ...       9388.940430     2522670000\n",
              "1065  2020-01-21      3320.790039  ...       9370.809570     2684540000\n",
              "\n",
              "[1066 rows x 7 columns]"
            ]
          },
          "metadata": {
            "tags": []
          },
          "execution_count": 42
        }
      ]
    },
    {
      "cell_type": "code",
      "metadata": {
        "id": "8kjPYQHCDRT8"
      },
      "source": [
        ""
      ],
      "execution_count": null,
      "outputs": []
    }
  ]
}