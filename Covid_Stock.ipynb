{
  "nbformat": 4,
  "nbformat_minor": 0,
  "metadata": {
    "colab": {
      "name": "Covid_Stock.ipynb",
      "provenance": [],
      "collapsed_sections": [],
      "include_colab_link": true
    },
    "kernelspec": {
      "name": "python3",
      "display_name": "Python 3"
    }
  },
  "cells": [
    {
      "cell_type": "markdown",
      "metadata": {
        "id": "view-in-github",
        "colab_type": "text"
      },
      "source": [
        "<a href=\"https://colab.research.google.com/github/gandhimonil9823/Covid_Stock_Analysis/blob/main/Covid_Stock.ipynb\" target=\"_parent\"><img src=\"https://colab.research.google.com/assets/colab-badge.svg\" alt=\"Open In Colab\"/></a>"
      ]
    },
    {
      "cell_type": "code",
      "metadata": {
        "id": "oNfFI6L5UjTX",
        "outputId": "5b84b996-59b4-468b-ded9-8d5de56b9fa9",
        "colab": {
          "base_uri": "https://localhost:8080/"
        }
      },
      "source": [
        "!apt-get install -q libgeos-3.5.0\n",
        "!apt-get install -q libgeos-dev\n",
        "!pip install -q https://github.com/matplotlib/basemap/archive/master.zip"
      ],
      "execution_count": 2,
      "outputs": [
        {
          "output_type": "stream",
          "text": [
            "Reading package lists...\n",
            "Building dependency tree...\n",
            "Reading state information...\n",
            "E: Unable to locate package libgeos-3.5.0\n",
            "E: Couldn't find any package by glob 'libgeos-3.5.0'\n",
            "E: Couldn't find any package by regex 'libgeos-3.5.0'\n",
            "Reading package lists...\n",
            "Building dependency tree...\n",
            "Reading state information...\n",
            "Suggested packages:\n",
            "  libgdal-doc\n",
            "The following NEW packages will be installed:\n",
            "  libgeos-dev\n",
            "0 upgraded, 1 newly installed, 0 to remove and 12 not upgraded.\n",
            "Need to get 73.1 kB of archives.\n",
            "After this operation, 486 kB of additional disk space will be used.\n",
            "Get:1 http://archive.ubuntu.com/ubuntu bionic/universe amd64 libgeos-dev amd64 3.6.2-1build2 [73.1 kB]\n",
            "Fetched 73.1 kB in 0s (178 kB/s)\n",
            "Selecting previously unselected package libgeos-dev.\n",
            "(Reading database ... 144786 files and directories currently installed.)\n",
            "Preparing to unpack .../libgeos-dev_3.6.2-1build2_amd64.deb ...\n",
            "Unpacking libgeos-dev (3.6.2-1build2) ...\n",
            "Setting up libgeos-dev (3.6.2-1build2) ...\n",
            "Processing triggers for man-db (2.8.3-2ubuntu0.1) ...\n",
            "\u001b[K     - 205.3MB 375kB/s\n",
            "\u001b[K     |████████████████████████████████| 6.5MB 2.6MB/s \n",
            "\u001b[K     |████████████████████████████████| 225kB 44.2MB/s \n",
            "\u001b[?25h  Building wheel for basemap (setup.py) ... \u001b[?25l\u001b[?25hdone\n",
            "  Building wheel for pyshp (setup.py) ... \u001b[?25l\u001b[?25hdone\n"
          ],
          "name": "stdout"
        }
      ]
    },
    {
      "cell_type": "code",
      "metadata": {
        "id": "2hx6ucKoUl9r",
        "outputId": "5fe1f85c-230a-4f56-90e7-a0043a40b07a",
        "colab": {
          "base_uri": "https://localhost:8080/"
        }
      },
      "source": [
        "!pip install -q pyproj==1.9.6"
      ],
      "execution_count": null,
      "outputs": [
        {
          "output_type": "stream",
          "text": [
            "\u001b[K     |████████████████████████████████| 2.8MB 2.8MB/s \n",
            "\u001b[?25h  Building wheel for pyproj (setup.py) ... \u001b[?25l\u001b[?25hdone\n"
          ],
          "name": "stdout"
        }
      ]
    },
    {
      "cell_type": "code",
      "metadata": {
        "id": "WnUEBEi_Vk81",
        "outputId": "1903987b-cd19-4957-e8ce-739a3396f6bb",
        "colab": {
          "base_uri": "https://localhost:8080/"
        }
      },
      "source": [
        "!pip install pathpy"
      ],
      "execution_count": null,
      "outputs": [
        {
          "output_type": "stream",
          "text": [
            "Collecting pathpy\n",
            "\u001b[?25l  Downloading https://files.pythonhosted.org/packages/83/81/0535e23d6d1a975836cb595261969bc449246dd7fb82a563be481091680b/pathpy-2.2.0-py2.py3-none-any.whl (231kB)\n",
            "\r\u001b[K     |█▍                              | 10kB 12.5MB/s eta 0:00:01\r\u001b[K     |██▉                             | 20kB 1.7MB/s eta 0:00:01\r\u001b[K     |████▎                           | 30kB 2.2MB/s eta 0:00:01\r\u001b[K     |█████▊                          | 40kB 2.5MB/s eta 0:00:01\r\u001b[K     |███████                         | 51kB 2.0MB/s eta 0:00:01\r\u001b[K     |████████▌                       | 61kB 2.2MB/s eta 0:00:01\r\u001b[K     |██████████                      | 71kB 2.2MB/s eta 0:00:01\r\u001b[K     |███████████▍                    | 81kB 2.5MB/s eta 0:00:01\r\u001b[K     |████████████▊                   | 92kB 2.8MB/s eta 0:00:01\r\u001b[K     |██████████████▏                 | 102kB 2.8MB/s eta 0:00:01\r\u001b[K     |███████████████▋                | 112kB 2.8MB/s eta 0:00:01\r\u001b[K     |█████████████████               | 122kB 2.8MB/s eta 0:00:01\r\u001b[K     |██████████████████▍             | 133kB 2.8MB/s eta 0:00:01\r\u001b[K     |███████████████████▉            | 143kB 2.8MB/s eta 0:00:01\r\u001b[K     |█████████████████████▎          | 153kB 2.8MB/s eta 0:00:01\r\u001b[K     |██████████████████████▊         | 163kB 2.8MB/s eta 0:00:01\r\u001b[K     |████████████████████████        | 174kB 2.8MB/s eta 0:00:01\r\u001b[K     |█████████████████████████▌      | 184kB 2.8MB/s eta 0:00:01\r\u001b[K     |███████████████████████████     | 194kB 2.8MB/s eta 0:00:01\r\u001b[K     |████████████████████████████▍   | 204kB 2.8MB/s eta 0:00:01\r\u001b[K     |█████████████████████████████▊  | 215kB 2.8MB/s eta 0:00:01\r\u001b[K     |███████████████████████████████▏| 225kB 2.8MB/s eta 0:00:01\r\u001b[K     |████████████████████████████████| 235kB 2.8MB/s \n",
            "\u001b[?25hRequirement already satisfied: numpy in /usr/local/lib/python3.6/dist-packages (from pathpy) (1.18.5)\n",
            "Requirement already satisfied: scipy in /usr/local/lib/python3.6/dist-packages (from pathpy) (1.4.1)\n",
            "Installing collected packages: pathpy\n",
            "Successfully installed pathpy-2.2.0\n"
          ],
          "name": "stdout"
        }
      ]
    },
    {
      "cell_type": "code",
      "metadata": {
        "id": "z7cKyzk79VUp"
      },
      "source": [
        "import pandas as pd\n",
        "import matplotlib.pyplot as plt\n",
        "import os\n",
        "import statistics \n",
        "import numpy as np\n",
        "# from mpl_toolkits.basemap import Basemap\n",
        "%matplotlib inline\n",
        "# import pathpy as pp\n",
        "from geopy import distance\n",
        "from geopy.distance import geodesic\n",
        "import itertools"
      ],
      "execution_count": 3,
      "outputs": []
    },
    {
      "cell_type": "code",
      "metadata": {
        "id": "Sh9sKScyHKg5",
        "outputId": "d82627de-4f3b-46e7-a776-82d7ea7236d6",
        "colab": {
          "base_uri": "https://localhost:8080/"
        }
      },
      "source": [
        "from google.colab import drive\n",
        "drive.mount('/content/drive', force_remount=True)"
      ],
      "execution_count": 4,
      "outputs": [
        {
          "output_type": "stream",
          "text": [
            "Mounted at /content/drive\n"
          ],
          "name": "stdout"
        }
      ]
    },
    {
      "cell_type": "code",
      "metadata": {
        "id": "847mykp8-TWX"
      },
      "source": [
        "# Merging the Stock Indexes and the currency data with rows as dates and columns as index values\n",
        "# Preprocessing the data sets with online steps for data processing \n",
        "# Figuring a way to convert the unemployment data into county wise data - probably using a probability distribution\n",
        "# Deal with missing stock data for weekends and holidays"
      ],
      "execution_count": 5,
      "outputs": []
    },
    {
      "cell_type": "markdown",
      "metadata": {
        "id": "UbBSALPbnyz_"
      },
      "source": [
        "Stock Data: Pre-processing\n"
      ]
    },
    {
      "cell_type": "code",
      "metadata": {
        "id": "9WeEbAqBns3G"
      },
      "source": [
        "# Reading CSVs for three stock indices\n",
        "df = pd.read_csv(\"/content/drive/Shared drives/Stock_Covid_Data/stock_data/DJI.csv\")\n",
        "df_DJI = df[[\"Date\", \"Adj Close\", \"Volume\"]]\n",
        "\n",
        "df = pd.read_csv(\"/content/drive/Shared drives/Stock_Covid_Data/stock_data/NASDAQ.csv\")\n",
        "df_NASDAQ = df[[\"Date\", \"Adj Close\", \"Volume\"]]\n",
        "\n",
        "df = pd.read_csv(\"/content/drive/Shared drives/Stock_Covid_Data/stock_data/S&P500.csv\")\n",
        "df_SP500 = df[[\"Date\", \"Adj Close\", \"Volume\"]]\n",
        "\n",
        "df_covid_clean_complete = pd.read_csv(\"/content/drive/Shared drives/Stock_Covid_Data/COVID_19/covid_19_clean_complete.csv\")\n",
        "\n",
        "df_centroid = pd.read_csv(\"/content/drive/Shared drives/Stock_Covid_Data/COVID_19/pre_processed_centroid.csv\")\n",
        "\n",
        "df_with_missing = pd.read_csv(\"/content/drive/Shared drives/Stock_Covid_Data/stock_data/stock_closing_prices_188.csv\")\n",
        "df_with_missing_historical = pd.read_csv(\"/content/drive/Shared drives/Stock_Covid_Data/stock_data/historical_data_filled_188.csv\")"
      ],
      "execution_count": 6,
      "outputs": []
    },
    {
      "cell_type": "code",
      "metadata": {
        "id": "D3hbuwrkns59"
      },
      "source": [
        "# Rename columns in each index in order to merge the indices \n",
        "df_NASDAQ = df_NASDAQ.rename(columns={'Adj Close': 'Adj_Close_NASDAQ', 'Volume': 'Volume_NASDAQ'})\n",
        "df_SP500 = df_SP500.rename(columns={'Adj Close': 'Adj_Close_SP500', 'Volume': 'Volume_SP500'})\n",
        "df_DJI = df_DJI.rename(columns={'Adj Close': 'Adj_Close_DJI', 'Volume': 'Volume_DJI'})"
      ],
      "execution_count": 6,
      "outputs": []
    },
    {
      "cell_type": "code",
      "metadata": {
        "id": "wHKeE7V6ns87"
      },
      "source": [
        "# Merging data of three stock indices based on column: 'Date' (merging two DFs at once)\n",
        "df_Merged = pd.merge(df_SP500, df_DJI, on=['Date'])\n",
        "df_stock_data = pd.merge(df_Merged, df_NASDAQ, on=['Date'])"
      ],
      "execution_count": 7,
      "outputs": []
    },
    {
      "cell_type": "code",
      "metadata": {
        "id": "kThip465ns_2",
        "outputId": "13e44f1a-9347-4874-c922-1bbdd93d6dbb",
        "colab": {
          "base_uri": "https://localhost:8080/",
          "height": 204
        }
      },
      "source": [
        "df_stock_data.head()"
      ],
      "execution_count": 8,
      "outputs": [
        {
          "output_type": "execute_result",
          "data": {
            "text/html": [
              "<div>\n",
              "<style scoped>\n",
              "    .dataframe tbody tr th:only-of-type {\n",
              "        vertical-align: middle;\n",
              "    }\n",
              "\n",
              "    .dataframe tbody tr th {\n",
              "        vertical-align: top;\n",
              "    }\n",
              "\n",
              "    .dataframe thead th {\n",
              "        text-align: right;\n",
              "    }\n",
              "</style>\n",
              "<table border=\"1\" class=\"dataframe\">\n",
              "  <thead>\n",
              "    <tr style=\"text-align: right;\">\n",
              "      <th></th>\n",
              "      <th>Date</th>\n",
              "      <th>Adj_Close_SP500</th>\n",
              "      <th>Volume_SP500</th>\n",
              "      <th>Adj_Close_DJI</th>\n",
              "      <th>Volume_DJI</th>\n",
              "      <th>Adj_Close_NASDAQ</th>\n",
              "      <th>Volume_NASDAQ</th>\n",
              "    </tr>\n",
              "  </thead>\n",
              "  <tbody>\n",
              "    <tr>\n",
              "      <th>0</th>\n",
              "      <td>2015-10-26</td>\n",
              "      <td>2071.179932</td>\n",
              "      <td>3385800000</td>\n",
              "      <td>17623.050781</td>\n",
              "      <td>116660000</td>\n",
              "      <td>5034.700195</td>\n",
              "      <td>1758690000</td>\n",
              "    </tr>\n",
              "    <tr>\n",
              "      <th>1</th>\n",
              "      <td>2015-10-27</td>\n",
              "      <td>2065.889893</td>\n",
              "      <td>4216880000</td>\n",
              "      <td>17581.429688</td>\n",
              "      <td>113960000</td>\n",
              "      <td>5030.149902</td>\n",
              "      <td>1986840000</td>\n",
              "    </tr>\n",
              "    <tr>\n",
              "      <th>2</th>\n",
              "      <td>2015-10-28</td>\n",
              "      <td>2090.350098</td>\n",
              "      <td>4698110000</td>\n",
              "      <td>17779.519531</td>\n",
              "      <td>115630000</td>\n",
              "      <td>5095.689941</td>\n",
              "      <td>2141130000</td>\n",
              "    </tr>\n",
              "    <tr>\n",
              "      <th>3</th>\n",
              "      <td>2015-10-29</td>\n",
              "      <td>2089.409912</td>\n",
              "      <td>4008940000</td>\n",
              "      <td>17755.800781</td>\n",
              "      <td>90300000</td>\n",
              "      <td>5074.270020</td>\n",
              "      <td>1928310000</td>\n",
              "    </tr>\n",
              "    <tr>\n",
              "      <th>4</th>\n",
              "      <td>2015-10-30</td>\n",
              "      <td>2079.360107</td>\n",
              "      <td>4256200000</td>\n",
              "      <td>17663.539063</td>\n",
              "      <td>149250000</td>\n",
              "      <td>5053.750000</td>\n",
              "      <td>2016390000</td>\n",
              "    </tr>\n",
              "  </tbody>\n",
              "</table>\n",
              "</div>"
            ],
            "text/plain": [
              "         Date  Adj_Close_SP500  ...  Adj_Close_NASDAQ  Volume_NASDAQ\n",
              "0  2015-10-26      2071.179932  ...       5034.700195     1758690000\n",
              "1  2015-10-27      2065.889893  ...       5030.149902     1986840000\n",
              "2  2015-10-28      2090.350098  ...       5095.689941     2141130000\n",
              "3  2015-10-29      2089.409912  ...       5074.270020     1928310000\n",
              "4  2015-10-30      2079.360107  ...       5053.750000     2016390000\n",
              "\n",
              "[5 rows x 7 columns]"
            ]
          },
          "metadata": {
            "tags": []
          },
          "execution_count": 8
        }
      ]
    },
    {
      "cell_type": "code",
      "metadata": {
        "id": "2A2pmmZZjlop",
        "outputId": "9cda8fcb-4572-4691-a83d-9614439dc26d",
        "colab": {
          "base_uri": "https://localhost:8080/"
        }
      },
      "source": [
        "df_stock_data.shape"
      ],
      "execution_count": 9,
      "outputs": [
        {
          "output_type": "execute_result",
          "data": {
            "text/plain": [
              "(1259, 7)"
            ]
          },
          "metadata": {
            "tags": []
          },
          "execution_count": 9
        }
      ]
    },
    {
      "cell_type": "code",
      "metadata": {
        "id": "I8QcIj3uXxnS",
        "outputId": "8427eec1-781d-4c03-a762-50ca49e675f7",
        "colab": {
          "base_uri": "https://localhost:8080/",
          "height": 204
        }
      },
      "source": [
        "df_with_missing.head()"
      ],
      "execution_count": 11,
      "outputs": [
        {
          "output_type": "execute_result",
          "data": {
            "text/html": [
              "<div>\n",
              "<style scoped>\n",
              "    .dataframe tbody tr th:only-of-type {\n",
              "        vertical-align: middle;\n",
              "    }\n",
              "\n",
              "    .dataframe tbody tr th {\n",
              "        vertical-align: top;\n",
              "    }\n",
              "\n",
              "    .dataframe thead th {\n",
              "        text-align: right;\n",
              "    }\n",
              "</style>\n",
              "<table border=\"1\" class=\"dataframe\">\n",
              "  <thead>\n",
              "    <tr style=\"text-align: right;\">\n",
              "      <th></th>\n",
              "      <th>Date</th>\n",
              "      <th>Adj_Close_SP500</th>\n",
              "      <th>Adj_Close_DJI</th>\n",
              "      <th>Adj_Close_NASDAQ</th>\n",
              "    </tr>\n",
              "  </thead>\n",
              "  <tbody>\n",
              "    <tr>\n",
              "      <th>0</th>\n",
              "      <td>2020-01-22</td>\n",
              "      <td>3321.750000</td>\n",
              "      <td>29186.26953</td>\n",
              "      <td>9383.769531</td>\n",
              "    </tr>\n",
              "    <tr>\n",
              "      <th>1</th>\n",
              "      <td>2020-01-23</td>\n",
              "      <td>3325.540039</td>\n",
              "      <td>29160.08984</td>\n",
              "      <td>9402.480469</td>\n",
              "    </tr>\n",
              "    <tr>\n",
              "      <th>2</th>\n",
              "      <td>2020-01-24</td>\n",
              "      <td>3295.469971</td>\n",
              "      <td>28989.73047</td>\n",
              "      <td>9314.910156</td>\n",
              "    </tr>\n",
              "    <tr>\n",
              "      <th>3</th>\n",
              "      <td>2020-01-25</td>\n",
              "      <td>3278.098532</td>\n",
              "      <td>28837.62388</td>\n",
              "      <td>9256.004910</td>\n",
              "    </tr>\n",
              "    <tr>\n",
              "      <th>4</th>\n",
              "      <td>2020-01-26</td>\n",
              "      <td>3260.818664</td>\n",
              "      <td>28686.31538</td>\n",
              "      <td>9197.472167</td>\n",
              "    </tr>\n",
              "  </tbody>\n",
              "</table>\n",
              "</div>"
            ],
            "text/plain": [
              "         Date  Adj_Close_SP500  Adj_Close_DJI  Adj_Close_NASDAQ\n",
              "0  2020-01-22      3321.750000    29186.26953       9383.769531\n",
              "1  2020-01-23      3325.540039    29160.08984       9402.480469\n",
              "2  2020-01-24      3295.469971    28989.73047       9314.910156\n",
              "3  2020-01-25      3278.098532    28837.62388       9256.004910\n",
              "4  2020-01-26      3260.818664    28686.31538       9197.472167"
            ]
          },
          "metadata": {
            "tags": []
          },
          "execution_count": 11
        }
      ]
    },
    {
      "cell_type": "code",
      "metadata": {
        "id": "g7FQa8xMx4rs",
        "outputId": "0346bd4b-68f0-4c91-867f-dd410642ca4e",
        "colab": {
          "base_uri": "https://localhost:8080/"
        }
      },
      "source": [
        "df_with_missing.shape"
      ],
      "execution_count": 14,
      "outputs": [
        {
          "output_type": "execute_result",
          "data": {
            "text/plain": [
              "(188, 4)"
            ]
          },
          "metadata": {
            "tags": []
          },
          "execution_count": 14
        }
      ]
    },
    {
      "cell_type": "code",
      "metadata": {
        "id": "Q-ndnnaJx6tC",
        "outputId": "4a9484b3-719e-41d1-bbfa-6cef524484a0",
        "colab": {
          "base_uri": "https://localhost:8080/",
          "height": 419
        }
      },
      "source": [
        "df_with_missing_historical"
      ],
      "execution_count": 7,
      "outputs": [
        {
          "output_type": "execute_result",
          "data": {
            "text/html": [
              "<div>\n",
              "<style scoped>\n",
              "    .dataframe tbody tr th:only-of-type {\n",
              "        vertical-align: middle;\n",
              "    }\n",
              "\n",
              "    .dataframe tbody tr th {\n",
              "        vertical-align: top;\n",
              "    }\n",
              "\n",
              "    .dataframe thead th {\n",
              "        text-align: right;\n",
              "    }\n",
              "</style>\n",
              "<table border=\"1\" class=\"dataframe\">\n",
              "  <thead>\n",
              "    <tr style=\"text-align: right;\">\n",
              "      <th></th>\n",
              "      <th>Date</th>\n",
              "      <th>Adj_Close_SP500</th>\n",
              "      <th>Adj_Close_DJI</th>\n",
              "      <th>Adj_Close_NASDAQ</th>\n",
              "    </tr>\n",
              "  </thead>\n",
              "  <tbody>\n",
              "    <tr>\n",
              "      <th>0</th>\n",
              "      <td>2019-07-18</td>\n",
              "      <td>2995.110107</td>\n",
              "      <td>27222.97070</td>\n",
              "      <td>8207.240234</td>\n",
              "    </tr>\n",
              "    <tr>\n",
              "      <th>1</th>\n",
              "      <td>2019-07-19</td>\n",
              "      <td>2976.610107</td>\n",
              "      <td>27154.19922</td>\n",
              "      <td>8146.490234</td>\n",
              "    </tr>\n",
              "    <tr>\n",
              "      <th>2</th>\n",
              "      <td>2019-07-20</td>\n",
              "      <td>2979.414105</td>\n",
              "      <td>27160.09833</td>\n",
              "      <td>8165.661554</td>\n",
              "    </tr>\n",
              "    <tr>\n",
              "      <th>3</th>\n",
              "      <td>2019-07-21</td>\n",
              "      <td>2982.220745</td>\n",
              "      <td>27165.99872</td>\n",
              "      <td>8184.877990</td>\n",
              "    </tr>\n",
              "    <tr>\n",
              "      <th>4</th>\n",
              "      <td>2019-07-22</td>\n",
              "      <td>2985.030029</td>\n",
              "      <td>27171.90039</td>\n",
              "      <td>8204.139648</td>\n",
              "    </tr>\n",
              "    <tr>\n",
              "      <th>...</th>\n",
              "      <td>...</td>\n",
              "      <td>...</td>\n",
              "      <td>...</td>\n",
              "      <td>...</td>\n",
              "    </tr>\n",
              "    <tr>\n",
              "      <th>183</th>\n",
              "      <td>2020-01-17</td>\n",
              "      <td>3329.620117</td>\n",
              "      <td>29348.09961</td>\n",
              "      <td>9388.940430</td>\n",
              "    </tr>\n",
              "    <tr>\n",
              "      <th>184</th>\n",
              "      <td>2020-01-18</td>\n",
              "      <td>3326.674152</td>\n",
              "      <td>29297.32497</td>\n",
              "      <td>9382.892916</td>\n",
              "    </tr>\n",
              "    <tr>\n",
              "      <th>185</th>\n",
              "      <td>2020-01-19</td>\n",
              "      <td>3323.730793</td>\n",
              "      <td>29246.63817</td>\n",
              "      <td>9376.849296</td>\n",
              "    </tr>\n",
              "    <tr>\n",
              "      <th>186</th>\n",
              "      <td>2020-01-20</td>\n",
              "      <td>3325.202147</td>\n",
              "      <td>29271.97060</td>\n",
              "      <td>9379.870619</td>\n",
              "    </tr>\n",
              "    <tr>\n",
              "      <th>187</th>\n",
              "      <td>2020-01-21</td>\n",
              "      <td>3320.790039</td>\n",
              "      <td>29196.03906</td>\n",
              "      <td>9370.809570</td>\n",
              "    </tr>\n",
              "  </tbody>\n",
              "</table>\n",
              "<p>188 rows × 4 columns</p>\n",
              "</div>"
            ],
            "text/plain": [
              "           Date  Adj_Close_SP500  Adj_Close_DJI  Adj_Close_NASDAQ\n",
              "0    2019-07-18      2995.110107    27222.97070       8207.240234\n",
              "1    2019-07-19      2976.610107    27154.19922       8146.490234\n",
              "2    2019-07-20      2979.414105    27160.09833       8165.661554\n",
              "3    2019-07-21      2982.220745    27165.99872       8184.877990\n",
              "4    2019-07-22      2985.030029    27171.90039       8204.139648\n",
              "..          ...              ...            ...               ...\n",
              "183  2020-01-17      3329.620117    29348.09961       9388.940430\n",
              "184  2020-01-18      3326.674152    29297.32497       9382.892916\n",
              "185  2020-01-19      3323.730793    29246.63817       9376.849296\n",
              "186  2020-01-20      3325.202147    29271.97060       9379.870619\n",
              "187  2020-01-21      3320.790039    29196.03906       9370.809570\n",
              "\n",
              "[188 rows x 4 columns]"
            ]
          },
          "metadata": {
            "tags": []
          },
          "execution_count": 7
        }
      ]
    },
    {
      "cell_type": "markdown",
      "metadata": {
        "id": "-whAELR8y9d_"
      },
      "source": [
        "# COVID-19 Data Loading and Preprocessing"
      ]
    },
    {
      "cell_type": "code",
      "metadata": {
        "id": "q8ilNwWHntC5"
      },
      "source": [
        "# Function to load the covid_clean_complete dataset from the drive\n",
        "def load_dataset_us_cases():  \n",
        "  df_covid_clean_complete = pd.read_csv(\"/content/drive/Shared drives/Stock_Covid_Data/COVID_19/covid_19_clean_complete.csv\")\n",
        "  return df_covid_clean_complete\n",
        "\n",
        "# Function to preprocess the clean_complete_dataset\n",
        "def preprocess_us_cases_df():\n",
        "  df_US_daily_cases = load_dataset_us_cases()\n",
        "\n",
        "  # get the daily data only for US\n",
        "  df_US_daily_cases = df_covid_clean_complete.loc[df_covid_clean_complete['Country/Region'] == \"US\"]\n",
        "  \n",
        "  df_US_daily_cases = df_US_daily_cases.reset_index(drop=True)\n",
        "\n",
        "  # Added a column for new_cases daily by getting the differerence of the confirmed cases\n",
        "  df_US_daily_cases[\"New_cases\"] = df_US_daily_cases[\"Confirmed\"].diff()\n",
        "  \n",
        "  df_US_daily_cases['New_cases'] = df_US_daily_cases['New_cases'].fillna(0)\n",
        "\n",
        "  df_US_daily_cases = df_US_daily_cases.rename(columns={\"Confirmed\": \"Total_Confirmed\", \"Deaths\" : \"Total_Deaths\"})\n",
        "\n",
        "  return df_US_daily_cases\n"
      ],
      "execution_count": 12,
      "outputs": []
    },
    {
      "cell_type": "markdown",
      "metadata": {
        "id": "3COXSluaHjZs"
      },
      "source": [
        "# Standardize the COVID variables like New_cases, Total_cases, Total_deaths"
      ]
    },
    {
      "cell_type": "code",
      "metadata": {
        "id": "1c1unfm214_r"
      },
      "source": [
        "# Function to standardize the covid_variables like New_cases, Total_cases, Total_deaths\n",
        "# Adds new columns to the df with the standarized values\n",
        "# params - the dataframe, and the column name (COVID Variable) which has to be standarized\n",
        "def covid_variable_impact_cal(dataframe_to_standardize, column_name):\n",
        "  # col_mean = dataframe_to_standardize[column_name].mean()\n",
        "  # col_std  = dataframe_to_standardize[column_name].std()\n",
        "\n",
        "  col_name = \"Standardized_Value_\" + column_name\n",
        "  dataframe_to_standardize[col_name] = dataframe_to_standardize[column_name]\n",
        "\n",
        "  i = 0\n",
        "  j = 0\n",
        "  while i < len(dataframe_to_standardize):\n",
        "    j = i\n",
        "    if i > 7:\n",
        "      col_mean = dataframe_to_standardize[column_name][j - 8: j - 1].mean()\n",
        "      col_std  = statistics.stdev(dataframe_to_standardize[column_name][j - 8: j - 1])\n",
        "\n",
        "      curr_daily_value = dataframe_to_standardize[column_name][i]\n",
        "\n",
        "      formula_cal_value = (curr_daily_value - col_mean) / col_std\n",
        "\n",
        "      dataframe_to_standardize.loc[i, col_name] = formula_cal_value\n",
        "\n",
        "    i += 1\n",
        "  dataframe_to_standardize[col_name].replace(np.inf, 0, inplace=True)\n",
        "  return dataframe_to_standardize"
      ],
      "execution_count": null,
      "outputs": []
    },
    {
      "cell_type": "code",
      "metadata": {
        "id": "rWYBLN-20_S1",
        "outputId": "382c6ce1-0427-4fbc-f8d0-6bb2e228de50",
        "colab": {
          "base_uri": "https://localhost:8080/",
          "height": 204
        }
      },
      "source": [
        "df_US_daily_cases = preprocess_us_cases_df()\n",
        "df_US_daily_cases.head()\n",
        "\n"
      ],
      "execution_count": null,
      "outputs": [
        {
          "output_type": "execute_result",
          "data": {
            "text/html": [
              "<div>\n",
              "<style scoped>\n",
              "    .dataframe tbody tr th:only-of-type {\n",
              "        vertical-align: middle;\n",
              "    }\n",
              "\n",
              "    .dataframe tbody tr th {\n",
              "        vertical-align: top;\n",
              "    }\n",
              "\n",
              "    .dataframe thead th {\n",
              "        text-align: right;\n",
              "    }\n",
              "</style>\n",
              "<table border=\"1\" class=\"dataframe\">\n",
              "  <thead>\n",
              "    <tr style=\"text-align: right;\">\n",
              "      <th></th>\n",
              "      <th>Province/State</th>\n",
              "      <th>Country/Region</th>\n",
              "      <th>Lat</th>\n",
              "      <th>Long</th>\n",
              "      <th>Date</th>\n",
              "      <th>Total_Confirmed</th>\n",
              "      <th>Total_Deaths</th>\n",
              "      <th>Recovered</th>\n",
              "      <th>Active</th>\n",
              "      <th>WHO Region</th>\n",
              "      <th>New_cases</th>\n",
              "    </tr>\n",
              "  </thead>\n",
              "  <tbody>\n",
              "    <tr>\n",
              "      <th>0</th>\n",
              "      <td>NaN</td>\n",
              "      <td>US</td>\n",
              "      <td>40.0</td>\n",
              "      <td>-100.0</td>\n",
              "      <td>2020-01-22</td>\n",
              "      <td>1</td>\n",
              "      <td>0</td>\n",
              "      <td>0</td>\n",
              "      <td>1</td>\n",
              "      <td>Americas</td>\n",
              "      <td>0.0</td>\n",
              "    </tr>\n",
              "    <tr>\n",
              "      <th>1</th>\n",
              "      <td>NaN</td>\n",
              "      <td>US</td>\n",
              "      <td>40.0</td>\n",
              "      <td>-100.0</td>\n",
              "      <td>2020-01-23</td>\n",
              "      <td>1</td>\n",
              "      <td>0</td>\n",
              "      <td>0</td>\n",
              "      <td>1</td>\n",
              "      <td>Americas</td>\n",
              "      <td>0.0</td>\n",
              "    </tr>\n",
              "    <tr>\n",
              "      <th>2</th>\n",
              "      <td>NaN</td>\n",
              "      <td>US</td>\n",
              "      <td>40.0</td>\n",
              "      <td>-100.0</td>\n",
              "      <td>2020-01-24</td>\n",
              "      <td>2</td>\n",
              "      <td>0</td>\n",
              "      <td>0</td>\n",
              "      <td>2</td>\n",
              "      <td>Americas</td>\n",
              "      <td>1.0</td>\n",
              "    </tr>\n",
              "    <tr>\n",
              "      <th>3</th>\n",
              "      <td>NaN</td>\n",
              "      <td>US</td>\n",
              "      <td>40.0</td>\n",
              "      <td>-100.0</td>\n",
              "      <td>2020-01-25</td>\n",
              "      <td>2</td>\n",
              "      <td>0</td>\n",
              "      <td>0</td>\n",
              "      <td>2</td>\n",
              "      <td>Americas</td>\n",
              "      <td>0.0</td>\n",
              "    </tr>\n",
              "    <tr>\n",
              "      <th>4</th>\n",
              "      <td>NaN</td>\n",
              "      <td>US</td>\n",
              "      <td>40.0</td>\n",
              "      <td>-100.0</td>\n",
              "      <td>2020-01-26</td>\n",
              "      <td>5</td>\n",
              "      <td>0</td>\n",
              "      <td>0</td>\n",
              "      <td>5</td>\n",
              "      <td>Americas</td>\n",
              "      <td>3.0</td>\n",
              "    </tr>\n",
              "  </tbody>\n",
              "</table>\n",
              "</div>"
            ],
            "text/plain": [
              "  Province/State Country/Region   Lat  ...  Active WHO Region  New_cases\n",
              "0            NaN             US  40.0  ...       1   Americas        0.0\n",
              "1            NaN             US  40.0  ...       1   Americas        0.0\n",
              "2            NaN             US  40.0  ...       2   Americas        1.0\n",
              "3            NaN             US  40.0  ...       2   Americas        0.0\n",
              "4            NaN             US  40.0  ...       5   Americas        3.0\n",
              "\n",
              "[5 rows x 11 columns]"
            ]
          },
          "metadata": {
            "tags": []
          },
          "execution_count": 16
        }
      ]
    },
    {
      "cell_type": "code",
      "metadata": {
        "id": "QnMre8cu-iQ1"
      },
      "source": [
        "df_standarized_total_confirmed = covid_variable_impact_cal(df_US_daily_cases, \"Total_Confirmed\")\n",
        "\n",
        "df_standarized_total_confirmed.reset_index().plot(x='index', y='Standardized_Value_Total_Confirmed')    \n",
        "\n",
        "df_standarized_Total_Deaths = covid_variable_impact_cal(df_US_daily_cases, \"Total_Deaths\")\n",
        "\n",
        "df_standarized_Total_Deaths.reset_index().plot(x='index', y='Standardized_Value_Total_Deaths')\n",
        "\n",
        "df_standarized_New_cases = covid_variable_impact_cal(df_US_daily_cases, \"New_cases\")\n",
        "\n",
        "df_standarized_New_cases.reset_index().plot(x='index', y='Standardized_Value_New_cases')"
      ],
      "execution_count": null,
      "outputs": []
    },
    {
      "cell_type": "markdown",
      "metadata": {
        "id": "Xqq0aLMxUq7O"
      },
      "source": [
        "# Complex Network Analysis"
      ]
    },
    {
      "cell_type": "code",
      "metadata": {
        "id": "pWuUkhqPUgz8"
      },
      "source": [
        "# Using Centroid of all the long and lat\n",
        "# def combinations_distance_df(df_original):\n",
        "#     counties  = df_original[\"Combined_Key\"]\n",
        "    \n",
        "#     list_of_counties_combinations = list(itertools.combinations(counties,2))\n",
        "\n",
        "#     df_to_return = pd.DataFrame({\"Combinations\" : list_of_counties_combinations})\n",
        "\n",
        "#     array_distances = []\n",
        "#     for item in list_of_counties_combinations:\n",
        "#         row_element1 = df_original.loc[df_original['Combined_Key'] == item[0]]\n",
        "#         row_element2 = df_original.loc[df_original['Combined_Key'] == item[1]]\n",
        "        \n",
        "#         value1 = float(row_element1[\"Centroid_Distance\"].tolist()[0])\n",
        "#         value2 = float(row_element2[\"Centroid_Distance\"].tolist()[0])\n",
        "\n",
        "#         array_distances.append(abs(value1 - value2))\n",
        "\n",
        "#     df_to_return[\"Distance\"] = array_distances\n",
        "#     return df_to_return    \n",
        "\n",
        "\n",
        "# Using Two counties difference directly\n",
        "def combinations_distance_df(df_original):\n",
        "    counties  = df_original[\"Combined_Key\"]\n",
        "\n",
        "    list_of_counties_combinations = list(itertools.combinations(counties,2))\n",
        "\n",
        "    df_to_return = pd.DataFrame({\"Combinations\" : list_of_counties_combinations})\n",
        "\n",
        "    array_distances = []\n",
        "    for item in list_of_counties_combinations:\n",
        "        row_element1 = df_original.loc[df_original['Combined_Key'] == item[0]]\n",
        "        row_element2 = df_original.loc[df_original['Combined_Key'] == item[1]]\n",
        "\n",
        "        long1 = float(row_element1[\"Long_\"].tolist()[0])\n",
        "        lat1 = float(row_element1[\"Lat\"].tolist()[0])\n",
        "        \n",
        "        long2 = float(row_element2[\"Long_\"].tolist()[0])\n",
        "        lat2 = float(row_element2[\"Lat\"].tolist()[0])\n",
        "\n",
        "        point_n = geodesic((lat1, long1),(lat2, long2)).miles\n",
        "        \n",
        "        array_distances.append(point_n)\n",
        "\n",
        "    df_to_return[\"Distance\"] = array_distances\n",
        "    return df_to_return    \n",
        "\n",
        "    "
      ],
      "execution_count": null,
      "outputs": []
    },
    {
      "cell_type": "code",
      "metadata": {
        "id": "FXwv-0jeWNmu"
      },
      "source": [
        "df_centroid = df_centroid[df_centroid.New_cases != 0]\n",
        "\n",
        "df_centroid = df_centroid.reset_index(drop=True)\n",
        "\n",
        "groupby_daily = df_centroid.groupby(df_centroid[\"Date\"])\n",
        "\n",
        "i = 0\n",
        "g = None\n",
        "for name, group in groupby_daily:\n",
        "# 2174\n",
        "    if len(group) == 2174:\n",
        "        fig = plt.figure(figsize=(16, 10))\n",
        "        m_ = Basemap(llcrnrlon=-119,llcrnrlat=22,urcrnrlon=-64,urcrnrlat=49,\n",
        "        projection='lcc',lat_1=33,lat_2=45,lon_0=-95)\n",
        "        m_.readshapefile('/content/drive/Shared drives/Stock_Covid_Data/COVID_19/st99_d00', name='states')\n",
        "        df_comb_counties_distance = combinations_distance_df(group)\n",
        "        G_t = pp.Network(directed=False)\n",
        "        for index_group, row_group in group.iterrows():\n",
        "            if row_group[\"New_cases\"] >= 0:\n",
        "                G_t.add_node(str(row_group[\"Combined_Key\"]))\n",
        "        m_.scatter(group[\"Long_\"].tolist(), group[\"Lat\"].tolist(), latlon=True, s=25, c=\"red\", marker='o')    \n",
        "        for index, row in df_comb_counties_distance.iterrows():\n",
        "            if row[\"Distance\"] < 100:\n",
        "                tuple_county = row[\"Combinations\"]\n",
        "                if str(tuple_county[0]) in G_t.nodes and str(tuple_county[1]) in G_t.nodes:\n",
        "                    G_t.add_edge(str(tuple_county[0]), str(tuple_county[1]))\n",
        "        plt.title(str(name), fontsize=20)\n",
        "        \n",
        "        g = G_t\n",
        "#         print(name)\n",
        "\n",
        "\n",
        "#         pp.visualisation.plot(G_t)    \n",
        "    # print(len(group))\n",
        "        \n",
        "style = {'width': 1000, \n",
        "          'height': 1000\n",
        "        }\n",
        "pp.visualisation.export_html(g, 'my_temporal_network.html')\n",
        "pp.visualisation.plot(g,**style)"
      ],
      "execution_count": null,
      "outputs": []
    },
    {
      "cell_type": "markdown",
      "metadata": {
        "id": "Ebk_gH8kX8vo"
      },
      "source": [
        "## Computing Stock paramaters - Abnormal price and Volatality:"
      ]
    },
    {
      "cell_type": "code",
      "metadata": {
        "id": "qSuYAyoOYY9n"
      },
      "source": [
        "def stock_params(df_stock_data):\n",
        "  # splitting stock data as pre-covid and covid\n",
        "  mask = (df_stock_data['Date'] >= '2015-10-26') & (df_stock_data['Date'] <= '2020-01-21')\n",
        "  historical_stock_data = df_stock_data.loc[mask]\n",
        "\n",
        "  mask = (df_with_missing['Date'] > '2020-01-21') & (df_stock_data['Date'] <= '2020-07-27') #135 days excluding weekends - 188 days including\n",
        "  covid_stock_data =  df_stock_data.loc[mask]\n",
        "  covid_closing_prices = covid_stock_data.iloc[:, lambda df: [1,3,5]]\n",
        "  \n",
        "  print(\"P_t\")\n",
        "  print(covid_closing_prices)\n",
        "\n",
        "  # compute the average price between 2015-10-26 and 2020-01-21\n",
        "  history_closing_prices = historical_stock_data.iloc[:, lambda df: [1,3,5]]\n",
        "  history_total = history_closing_prices.sum()\n",
        "  avg_history_total = history_total.div(1066)\n",
        "\n",
        "  print(\"P_t-i\")\n",
        "  print(avg_history_total)\n",
        "\n",
        "  # compute standard deviation\n",
        "  diff = history_closing_prices - [avg_history_total[0], avg_history_total[1], avg_history_total[2]]\n",
        "  sd_stock_indices = (diff**2 / 1066)**0.5\n",
        "\n",
        "  print(\"sigma_P\")\n",
        "  print(sd_stock_indices)\n",
        "\n",
        "\n",
        "  return historical_stock_data,covid_stock_data\n"
      ],
      "execution_count": null,
      "outputs": []
    },
    {
      "cell_type": "code",
      "metadata": {
        "id": "5asmSbMaZ_x2"
      },
      "source": [
        "historical_stock_data,covid_stock_data = stock_params(df_stock_data)\n",
        "# print(historical_stock_data)\n",
        "# print(covid_stock_data)"
      ],
      "execution_count": null,
      "outputs": []
    },
    {
      "cell_type": "code",
      "metadata": {
        "id": "asGQQ9UeaBiG"
      },
      "source": [
        "covid_stock_data"
      ],
      "execution_count": null,
      "outputs": []
    },
    {
      "cell_type": "code",
      "metadata": {
        "id": "2kbBgpmsDLjI"
      },
      "source": [
        "historical_stock_data"
      ],
      "execution_count": null,
      "outputs": []
    },
    {
      "cell_type": "code",
      "metadata": {
        "id": "8kjPYQHCDRT8"
      },
      "source": [
        "stock_closing_prices_188.head()"
      ],
      "execution_count": null,
      "outputs": []
    },
    {
      "cell_type": "code",
      "metadata": {
        "id": "tE9sDED-IUAd"
      },
      "source": [
        ""
      ],
      "execution_count": null,
      "outputs": []
    }
  ]
}